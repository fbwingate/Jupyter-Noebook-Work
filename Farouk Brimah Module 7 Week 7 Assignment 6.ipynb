{
 "cells": [
  {
   "cell_type": "code",
   "execution_count": null,
   "metadata": {},
   "outputs": [],
   "source": [
    "!jt -"
   ]
  },
  {
   "cell_type": "markdown",
   "metadata": {},
   "source": [
    "<h1 align=\"center\">HINF5001: Computer Programming for Health Informatics and Data Science</h1>\n",
    "<b><center>Module 7 Week 7 Assignment</center></b>"
   ]
  },
  {
   "cell_type": "markdown",
   "metadata": {},
   "source": [
    "# Assignment Overview\n",
    "\n",
    "In this assignment, you will work with the Python variables and simple Data Types you learned in the week 3 lecture, for instance, defining variables, integers, floats, mathematical expressions, and boolean.\n",
    "\n",
    "This assignment is designed to help you be comfortable with coding in Python language as well as help you review the topics we covered.\n",
    "\n",
    "Before submitting your file, ensure you run your code from each cell. You should apply the same concepts you will do when delivering a final project to your client or superior.\n",
    "\n",
    "# Tips on File Submission in Blackboard\n",
    "* Download a copy of the Jupyter Notebook with assignment questions and save it in your working directory\n",
    "* Complete the assignment questions\n",
    "* Submit your completed Jupyter Notebook assignment file in the designated dropbox\n",
    "\n",
    "\n",
    "# Learning Objectives\n",
    "- Use Jupyter Notebook to commence programming in Python\n",
    "- Specify Python basic data types, inclduing integers, strings, floats, boolean\n",
    "- Apply the data types to programming codes\n",
    "- Create variables that will read and refer to objects in Python"
   ]
  },
  {
   "cell_type": "markdown",
   "metadata": {},
   "source": [
    "# Instructions\n",
    "The line **### BEGIN SOLUTION** tells you where to write your solution and **### END SOLUTION tells you where your solution will end**. Do not touch anything outside the comment parameters and do not delete them!"
   ]
  },
  {
   "cell_type": "markdown",
   "metadata": {},
   "source": [
    "## Question 1\n",
    "15 points\n",
    "\n",
    "\n",
    "\n",
    "Using the given test score below, write a for loop program that will iterate over your test score and print each score one by one. Assign the for loop to a variable called orig_score."
   ]
  },
  {
   "cell_type": "code",
   "execution_count": 1,
   "metadata": {},
   "outputs": [
    {
     "name": "stdout",
     "output_type": "stream",
     "text": [
      "55\n",
      "70\n",
      "80\n",
      "85\n",
      "90\n"
     ]
    }
   ],
   "source": [
    "my_score = [55, 70, 80, 85, 90]\n",
    "\n",
    "\n",
    "### BEGIN SOLUTION\n",
    "for orig_score in my_score:\n",
    "    print(orig_score)\n",
    "\n",
    "\n",
    "### END SOLUTION"
   ]
  },
  {
   "cell_type": "markdown",
   "metadata": {},
   "source": [
    "## Question 2\n",
    "\n",
    "20 points\n",
    "\n",
    "Assume that your professor curves the test score my_score = [55, 70, 80, 85, 90] by 6 points, use a for loop to add the 6 points to the score. Assign the new score to a variable named final_score."
   ]
  },
  {
   "cell_type": "code",
   "execution_count": 3,
   "metadata": {},
   "outputs": [
    {
     "name": "stdout",
     "output_type": "stream",
     "text": [
      "61\n",
      "76\n",
      "86\n",
      "91\n",
      "96\n"
     ]
    }
   ],
   "source": [
    "### BEGIN SOLUTION\n",
    "my_score = [55, 70, 80, 85, 90]\n",
    "for final_score in my_score:\n",
    "    final_score = final_score + 6\n",
    "    print(final_score)\n",
    "\n",
    "\n",
    "### END SOLUTION"
   ]
  },
  {
   "cell_type": "markdown",
   "metadata": {},
   "source": [
    "## Question 3\n",
    "\n",
    "20 points\n",
    "\n",
    "Using the range() function, print the numbers in the range 50 to 91 (inclusive). Ensure that you use a for loop. Finally, assign the result to a variable."
   ]
  },
  {
   "cell_type": "code",
   "execution_count": 5,
   "metadata": {},
   "outputs": [
    {
     "name": "stdout",
     "output_type": "stream",
     "text": [
      "50\n",
      "51\n",
      "52\n",
      "53\n",
      "54\n",
      "55\n",
      "56\n",
      "57\n",
      "58\n",
      "59\n",
      "60\n",
      "61\n",
      "62\n",
      "63\n",
      "64\n",
      "65\n",
      "66\n",
      "67\n",
      "68\n",
      "69\n",
      "70\n",
      "71\n",
      "72\n",
      "73\n",
      "74\n",
      "75\n",
      "76\n",
      "77\n",
      "78\n",
      "79\n",
      "80\n",
      "81\n",
      "82\n",
      "83\n",
      "84\n",
      "85\n",
      "86\n",
      "87\n",
      "88\n",
      "89\n",
      "90\n",
      "91\n"
     ]
    }
   ],
   "source": [
    "### BEGIN SOLUTION\n",
    "\n",
    "for num in range(50,92):\n",
    "    print(num)\n",
    "\n",
    "\n",
    "\n",
    "### END SOLUTION"
   ]
  },
  {
   "cell_type": "markdown",
   "metadata": {},
   "source": [
    "## Question 4\n",
    "20 points\n",
    "\n",
    "Create a program that iterates using a while loop over x = 5, multiplies x by 2 until x is more than 300, and prints the results."
   ]
  },
  {
   "cell_type": "code",
   "execution_count": 7,
   "metadata": {},
   "outputs": [
    {
     "name": "stdout",
     "output_type": "stream",
     "text": [
      "10\n",
      "20\n",
      "40\n",
      "80\n",
      "160\n",
      "320\n"
     ]
    }
   ],
   "source": [
    "### BEGIN SOLUTION\n",
    "x = 5\n",
    "while x < 300:\n",
    "    x = x * 2\n",
    "    print(x)\n",
    "    \n",
    "    \n",
    "### END SOLUTION   \n"
   ]
  },
  {
   "cell_type": "markdown",
   "metadata": {},
   "source": [
    "## Question 5\n",
    "25 points\n",
    "\n",
    "Your supervisor saw that you did a great job writing the while loop program in question 4 and have asked you to re-write the code so that it is used multiple times without writing the code repeatedly. Your supervisor instructed you to print the string \"The number has reached its max; please stop!\" As part of your assessment, you decided to use a while loop in your new function code. You may name your function as multiply_num. Ensure you test your code."
   ]
  },
  {
   "cell_type": "code",
   "execution_count": 10,
   "metadata": {},
   "outputs": [
    {
     "name": "stdout",
     "output_type": "stream",
     "text": [
      "10\n",
      "20\n",
      "40\n",
      "80\n",
      "160\n",
      "320\n",
      "The number has reached its max; please stop!\n"
     ]
    }
   ],
   "source": [
    "### BEGIN SOLUTION\n",
    "#naming the fucntion\n",
    "def multiply_num(x):\n",
    "    x = 5\n",
    "    while x < 300:\n",
    "        x = x * 2 \n",
    "        print(x)\n",
    "    print(\"The number has reached its max; please stop!\")\n",
    "#calling the function\n",
    "multiply_num(x)\n",
    "        \n",
    "\n",
    "\n",
    "### END SOLUTION"
   ]
  },
  {
   "cell_type": "code",
   "execution_count": null,
   "metadata": {},
   "outputs": [],
   "source": []
  }
 ],
 "metadata": {
  "kernelspec": {
   "display_name": "Python 3 (ipykernel)",
   "language": "python",
   "name": "python3"
  },
  "language_info": {
   "codemirror_mode": {
    "name": "ipython",
    "version": 3
   },
   "file_extension": ".py",
   "mimetype": "text/x-python",
   "name": "python",
   "nbconvert_exporter": "python",
   "pygments_lexer": "ipython3",
   "version": "3.8.19"
  },
  "toc": {
   "base_numbering": 1,
   "nav_menu": {
    "height": "23px",
    "width": "160px"
   },
   "number_sections": false,
   "sideBar": true,
   "skip_h1_title": true,
   "title_cell": "Table of Contents",
   "title_sidebar": "Contents",
   "toc_cell": false,
   "toc_position": {
    "height": "calc(100% - 180px)",
    "left": "10px",
    "top": "150px",
    "width": "165px"
   },
   "toc_section_display": true,
   "toc_window_display": true
  }
 },
 "nbformat": 4,
 "nbformat_minor": 4
}
