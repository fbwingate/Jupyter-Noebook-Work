{
 "cells": [
  {
   "cell_type": "code",
   "execution_count": null,
   "metadata": {},
   "outputs": [],
   "source": [
    "!jt -"
   ]
  },
  {
   "cell_type": "markdown",
   "metadata": {},
   "source": [
    "<h1 align=\"center\">HINF5001 Computer Programming for Health Informatics and Data Science</h1>\n",
    "<b><center>Module 5 Week 5 Assignment</center></b>"
   ]
  },
  {
   "cell_type": "markdown",
   "metadata": {},
   "source": [
    "# Assignment Overview\n",
    "\n",
    "In this assignment, you will work with the Python functions you learned in week 4 lecture, for instance using built-in, methods, and user-defined functions to perform tasks.\n",
    "\n",
    "This assigned is designed to help you be comfortable in coding in Python language as well as helping you to review the topics we covered.\n",
    "\n",
    "Before submitting your file, ensure that you run your code from each cell to avoid loosing points.You should apply the same concepts you will do when delivering a final project to your client or superior.\n",
    "\n",
    "# Tips on File Submission in Brightspace\n",
    "* Upload a copy of your Jupyter Notebook with completed assignment\n",
    "* Submit .ipynb file only in the designated assignment dropbox\n",
    "\n",
    "# Learning Objectives\n",
    "- Use conditional statements in decision making."
   ]
  },
  {
   "cell_type": "markdown",
   "metadata": {},
   "source": [
    "# Instructions\n",
    "The line **### BEGIN SOLUTION** tells you where to write your solution and **### END SOLUTION tells you where your solution will end**. Do not touch anything outside the comment parameters and do not delete them!"
   ]
  },
  {
   "cell_type": "markdown",
   "metadata": {},
   "source": [
    "## Question 1\n",
    "10 points\n",
    "\n",
    "\n",
    "\n",
    "Write a program that print a string \"True\" to the value if num1 is less than 0, or print \"False\" to the value if num2 is greater than 0."
   ]
  },
  {
   "cell_type": "code",
   "execution_count": 3,
   "metadata": {},
   "outputs": [
    {
     "name": "stdout",
     "output_type": "stream",
     "text": [
      "True\n"
     ]
    }
   ],
   "source": [
    "num1 = -485\n",
    "num2 = 15\n",
    "\n",
    "### BEGIN SOLUTION\n",
    "\n",
    "if num1 < 0:\n",
    "    print('True')\n",
    "elif num2 > 0:\n",
    "    print('False')\n",
    "### END SOLUTION"
   ]
  },
  {
   "cell_type": "markdown",
   "metadata": {},
   "source": [
    "## Question 2\n",
    "\n",
    "10 points\n",
    "\n",
    "Assume that you want to design a Python program that checks your examination score in your computer science course. To this:\n",
    "\n",
    "- Define a function called score-desc\n",
    "- it takes the parameter score\n",
    "- print out a statement that tells you if you passed the exam, where the score is at least 80 is considered passing\n",
    "\n",
    "Test your code with different scores."
   ]
  },
  {
   "cell_type": "code",
   "execution_count": 11,
   "metadata": {},
   "outputs": [
    {
     "name": "stdout",
     "output_type": "stream",
     "text": [
      "Congratulations! You passed the exam !\n",
      "None\n"
     ]
    }
   ],
   "source": [
    "### BEGIN SOLUTION\n",
    "def score_desc(score):\n",
    "    if score >= 80:\n",
    "        print(f\"Congratulations! You passed the exam !\")\n",
    " \n",
    "\n",
    "print(score_desc(88))\n",
    "\n",
    "### END SOLUTION"
   ]
  },
  {
   "cell_type": "markdown",
   "metadata": {},
   "source": [
    "## Question 3\n",
    "\n",
    "10 points\n",
    "\n",
    "A continuation from question 2.\n",
    "Assume that you want to checks if you pass or fail the exam. To this:\n",
    "\n",
    "- Define a function called score-desc\n",
    "- it takes the parameter score\n",
    "- print out the statements:\n",
    "    - tells if you passed the exam, where the score is at least 80 is considered passing and print \"Congratulations, I passed the  exam!\"\n",
    "    - otherwise, tells if you failed the exam, print \"Sorry, you failed the exam!. Next time study well\"\n",
    "    \n",
    "Test your code with different scores."
   ]
  },
  {
   "cell_type": "code",
   "execution_count": 14,
   "metadata": {},
   "outputs": [
    {
     "name": "stdout",
     "output_type": "stream",
     "text": [
      "Sorry, you failed the exam! Next time study well\n",
      "None\n",
      "Congratulations, I passed the exam\n",
      "None\n"
     ]
    }
   ],
   "source": [
    "### BEGIN SOLUTION\n",
    "def score_desc(score):\n",
    "    if score >= 80:\n",
    "        print(f\"Congratulations, I passed the exam\")\n",
    "    else:\n",
    "        print(f\"Sorry, you failed the exam! Next time study well\")\n",
    "\n",
    "print(score_desc(45))\n",
    "\n",
    "print(score_desc(88))\n",
    "\n",
    "\n",
    "### END SOLUTION"
   ]
  },
  {
   "cell_type": "markdown",
   "metadata": {},
   "source": [
    "## Question 4\n",
    "15 points\n",
    "\n",
    "*You are driving too fast in a school zone, and a police officer stops you and question why you did not observe the posted speed limit. \n",
    "\n",
    "Define a function to return one of 3 possible outputs: \n",
    "- \"No ticket\", \"Small ticket\", or \"Big Ticket\". \n",
    "    - If your speed is 25 or less, the output is \"No Ticket, lucky you!\". \n",
    "    - If speed is between 26 and 40 inclusive, the output is \"Small Ticket, be happy!\". \n",
    "    - If speed is 41 or more, the output is \"Big Ticket, just pay the ticket, dont bother going to see the Judge!\". \n",
    "\n",
    "Unless it is your birthday (encoded as a boolean value in the parameters of the function) -- on your birthday, your speed can be 5 higher in all cases, and it is considered a grace for you. Complete the code below."
   ]
  },
  {
   "cell_type": "code",
   "execution_count": 55,
   "metadata": {},
   "outputs": [],
   "source": [
    "### BEGIN SOLUTION\n",
    "def caught_speeding(speed, is_birthday): \n",
    "\n",
    "#5 miles will be subtracted if it's his or her birthday\n",
    "    if is_birthday:\n",
    "        speeding -= 5\n",
    "    else:\n",
    "        speeding = speed\n",
    "\n",
    "## We are giving the limits for the specific ticket they will receive\n",
    "    if speed <= 25:\n",
    "        return \"No Ticket, lucky you!\"\n",
    "    elif 26 <= speed <= 40:\n",
    "        return \"Small Ticket, be happy!\"\n",
    "    else:\n",
    "        return \"Big Ticket, just pay the ticket, don't bother going to see the Judge!\"\n",
    "\n",
    "### END SOLUTION    "
   ]
  },
  {
   "cell_type": "code",
   "execution_count": 26,
   "metadata": {},
   "outputs": [
    {
     "name": "stdout",
     "output_type": "stream",
     "text": [
      "Big Ticket, just pay the ticket, don't bother going to see the Judge!\n",
      "Small Ticket, be happy!\n",
      "No Ticket, lucky you!\n"
     ]
    }
   ],
   "source": [
    "# Test the code above with these choices\n",
    "\n",
    "print(caught_speeding(60, True))\n",
    "print(caught_speeding(30, False))\n",
    "print(caught_speeding(18, False))"
   ]
  },
  {
   "cell_type": "markdown",
   "metadata": {},
   "source": [
    "## Question 5\n",
    "10 points\n",
    "\n",
    "In this question, the code given below asks the user to enter how old they are. \n",
    "\n",
    "Your code should then:\n",
    "\n",
    "- Print out \"You are still legally a child\" if the user enters in an age of 17 or below. \n",
    "- Otherwise it should print out \"You are legally not a child, but a full grown adult!\""
   ]
  },
  {
   "cell_type": "code",
   "execution_count": 56,
   "metadata": {},
   "outputs": [
    {
     "name": "stdin",
     "output_type": "stream",
     "text": [
      "How old are you?  18\n"
     ]
    },
    {
     "name": "stdout",
     "output_type": "stream",
     "text": [
      "You are legally not a child, but a full grown adult!\n"
     ]
    }
   ],
   "source": [
    "#Enter in a integer representing an age\n",
    "\n",
    "age = int( input(\"How old are you? \") )\n",
    "\n",
    "### BEGIN SOLUTION\n",
    "if age <= 17:\n",
    "    print (\"you are still legally a child\")\n",
    "else:\n",
    "    print (\"You are legally not a child, but a full grown adult!\")\n",
    "\n",
    "### END SOLUTION"
   ]
  },
  {
   "cell_type": "markdown",
   "metadata": {},
   "source": [
    "## Question 6\n",
    "20 points\n",
    "\n",
    "Use a NESDTED CONDITIONAL statement to determine the price of a haircut depending on the values from user input. \n",
    "\n",
    "- The price for a male that is under 15 is 10 dollars\n",
    "- The price for a male that is 15 or over is 15 dollars\n",
    "- The price for a female that is under 15 is 12 dollars\n",
    "- The price for a female that is 15 or over is 20 dollars\n",
    "\n",
    "The user is expected to type in 'M' or 'F' for the gender, not the words 'Male' or 'Female'. \n",
    "Use this assumption when writing your code (i.e. you dont need to handle other values for gender)"
   ]
  },
  {
   "cell_type": "code",
   "execution_count": 37,
   "metadata": {},
   "outputs": [
    {
     "name": "stdin",
     "output_type": "stream",
     "text": [
      "Is the person a (M)ale or a (F)emale?  F\n",
      "How old is the person?  8\n"
     ]
    },
    {
     "name": "stdout",
     "output_type": "stream",
     "text": [
      "The price for a F of age 8 is $12.00\n"
     ]
    }
   ],
   "source": [
    "# Enter in a M or F for Male or Female, respectively. \n",
    "gender = input(\"Is the person a (M)ale or a (F)emale? \")\n",
    "\n",
    "# Enter in a integer\n",
    "age = int( input(\"How old is the person? \") )\n",
    "\n",
    "### BEGIN SOLUTION\n",
    "if gender == 'M':\n",
    "    if age < 15:\n",
    "        price = 10.00\n",
    "    else:\n",
    "        price = 15.00\n",
    "\n",
    "elif gender == 'F':\n",
    "    if age < 15:\n",
    "        price = 12.00\n",
    "    else:\n",
    "        price = 20.00\n",
    "\n",
    "### END SOLUTION\n",
    "\n",
    "# Print out final message\n",
    "print(\"The price for a {} of age {} is ${:.2f}\".format(gender, age, price))"
   ]
  },
  {
   "cell_type": "markdown",
   "metadata": {},
   "source": [
    "## Question 7\n",
    "\n",
    "20 points\n",
    "\n",
    "Using the combination of conditionals and functions:\n",
    "\n",
    "The code given is trying to implement a Rock, Paper, Scissors game. The code\n",
    "\n",
    "will ask the user for a choice of rock, paper, or scissors. The code will also\n",
    "choose for the computer. At this point, the code calls a function, who_wins, to\n",
    "determine who the winner is. Your job is to implement this function.\n",
    "\n",
    "The function:\n",
    "- is named who_wins\n",
    "- takes in two parameters. \n",
    "    - The first one is the computer's move, the second one is the user's move\n",
    "- The body of the function should use a conditional statement to return a string describing who won. \n",
    "    - If the user and computer both pick \"Rock\", the function should return \"Tie\"\n",
    "    - If the user wins, the function should return \"User wins\"\n",
    "    - If the computer wins, the function should return \"Computer wins\"\n",
    "\n",
    "\n",
    "**HINT**: The code given to you introduces some concepts, like lists and some new functions\n",
    "like random.choice(). You DO NOT need to understand this code. You can read the code\n",
    "but for this question, you just need to write a function according to the instructions above"
   ]
  },
  {
   "cell_type": "code",
   "execution_count": 52,
   "metadata": {},
   "outputs": [
    {
     "name": "stdin",
     "output_type": "stream",
     "text": [
      "Choose rock, paper or scissors:  rock\n"
     ]
    },
    {
     "name": "stdout",
     "output_type": "stream",
     "text": [
      "Computer chooses scissors\n",
      "Who won? User wins\n"
     ]
    }
   ],
   "source": [
    "### BEGIN SOLUTION\n",
    "\n",
    "def who_wins(computer_move, user_move):\n",
    "    ''' (str, str) -> str \n",
    "\n",
    "    This function takes in the moves the computer and user decided to make, and\n",
    "    returns a string describing who won.\n",
    "\n",
    "    Args:\n",
    "        computer_move (str): The move the computer made\n",
    "        user_move (str): The move the user made\n",
    "\n",
    "    Returns: a string, describing who won, the computer or the user.\n",
    "    '''\n",
    "    if computer_move == user_move:\n",
    "        return \"Tie\"\n",
    "   \n",
    "    # compyer and user take turns to find out the winner\n",
    "   \n",
    "    if (computer_move == \"rock\" and user_move == \"scissors\") or \\\n",
    "       (computer_move == \"scissors\" and user_move == \"paper\") or \\\n",
    "       (computer_move == \"paper\" and user_move == \"rock\"):\n",
    "        return \"Computer wins\"\n",
    "    else:\n",
    "        return \"User wins\"\n",
    "\n",
    "\n",
    "### END SOLUTION \n",
    "\n",
    "# List of valid choices for the user to make\n",
    "valid_choices = [\"rock\", \"paper\", \"scissors\"]\n",
    "\n",
    "# Keep asking the user for a choice until they enter a valid one\n",
    "user_choice = None\n",
    "while user_choice not in valid_choices:\n",
    "    user_choice = input(\"Choose rock, paper or scissors: \")\n",
    "\n",
    "# Choose for the computer\n",
    "import random\n",
    "computer_choice = random.choice(valid_choices)\n",
    "print(\"Computer chooses {}\".format(computer_choice))\n",
    "\n",
    "# Who won?\n",
    "who_won = who_wins(computer_choice, user_choice)\n",
    "print(\"Who won? {}\".format( who_won ))"
   ]
  },
  {
   "cell_type": "markdown",
   "metadata": {},
   "source": [
    "## Question 8\n",
    "5 points\n",
    "\n",
    "What is loop? Mention the types of loop used in computer programming. Write your answer using the markdown cell."
   ]
  },
  {
   "cell_type": "markdown",
   "metadata": {},
   "source": [
    "A loop in computer programming allows you to run an order of instructions until a condition is met. In python, there is a \"for loop\" \"while loop\" and a \"nested loop\""
   ]
  },
  {
   "cell_type": "code",
   "execution_count": null,
   "metadata": {},
   "outputs": [],
   "source": []
  }
 ],
 "metadata": {
  "kernelspec": {
   "display_name": "Python 3 (ipykernel)",
   "language": "python",
   "name": "python3"
  },
  "language_info": {
   "codemirror_mode": {
    "name": "ipython",
    "version": 3
   },
   "file_extension": ".py",
   "mimetype": "text/x-python",
   "name": "python",
   "nbconvert_exporter": "python",
   "pygments_lexer": "ipython3",
   "version": "3.8.19"
  },
  "toc": {
   "base_numbering": 1,
   "nav_menu": {
    "height": "23px",
    "width": "160px"
   },
   "number_sections": false,
   "sideBar": true,
   "skip_h1_title": true,
   "title_cell": "Table of Contents",
   "title_sidebar": "Contents",
   "toc_cell": false,
   "toc_position": {},
   "toc_section_display": true,
   "toc_window_display": true
  }
 },
 "nbformat": 4,
 "nbformat_minor": 4
}
