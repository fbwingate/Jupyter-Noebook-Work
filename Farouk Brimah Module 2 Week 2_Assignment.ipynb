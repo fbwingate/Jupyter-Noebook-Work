{
 "cells": [
  {
   "cell_type": "code",
   "execution_count": null,
   "metadata": {},
   "outputs": [],
   "source": [
    "!jt -"
   ]
  },
  {
   "cell_type": "markdown",
   "metadata": {},
   "source": [
    "<h1 align=\"center\">MIMS5001: Introduction to Computer Science</h1>\n",
    "<b><center>Module 2 Week 2 Assignment</center></b>"
   ]
  },
  {
   "cell_type": "markdown",
   "metadata": {},
   "source": [
    "# Assignment Overview\n",
    "\n",
    "In this assignment, you will use the Jupyter Notebook. If not already installed, do so by downloading it from the website and learning how to navigate Jupyter Notebook.\n",
    "\n",
    "This assignment is designed to help you be comfortable coding in Jupyter Notebook and help you review the topics we have covered thus far.\n",
    "\n",
    "Before submitting your file, make sure that you run your code in each cell. You should always apply the same concepts when delivering a final project to your clients or superiors. Test, Test, Test your codes.\n",
    "\n",
    "# Tips on File Submission in Blackboard\n",
    "* Upload a copy of your Jupyter Notebook with completed assignment\n",
    "* Submit .ipynb file in the designated assignment dropbox\n",
    "\n",
    "# Learning Objectives\n",
    "- Downnload anaconda package and set up its environment\n",
    "- Create new Jupyter Notebook using Python 3\n",
    "- Navigate Jupyter Notebook and recognize the icons on the toolbar\n",
    "- Use Jupyter Notebook to start programming in Python\n",
    "- Run and test your code in each cell to ensure that it's running\n",
    "- Submit the assignment in Blackboard, using Jupyter Notebook "
   ]
  },
  {
   "cell_type": "markdown",
   "metadata": {},
   "source": [
    "# Instructions\n",
    "The line **### BEGIN SOLUTION** tells you where to write your solution, and **### END SOLUTION tells you where your solution will end**. Do not touch anything outside the comment parameters, and do not delete them! Make sure you run all your cells to produce outputs."
   ]
  },
  {
   "cell_type": "markdown",
   "metadata": {},
   "source": [
    "## **Question** 1\n",
    "20 points\n",
    "\n",
    "\n",
    "\n",
    "Ensure that your downloaded Anaconda package and set-up environment are working correctly. If yes, write and print an output that says \"I rock!\""
   ]
  },
  {
   "cell_type": "code",
   "execution_count": 13,
   "metadata": {},
   "outputs": [
    {
     "name": "stdout",
     "output_type": "stream",
     "text": [
      "i rock!\n"
     ]
    }
   ],
   "source": [
    "### BEGIN SOLUTION\n",
    "print(\"i rock!\")\n",
    "\n",
    "\n",
    "### END SOLUTION"
   ]
  },
  {
   "cell_type": "markdown",
   "metadata": {},
   "source": [
    "## Question 2\n",
    "20 points\n",
    "\n",
    "Did you install all the needed Python libraries? If so, write, \"All my libraries are good to go!\""
   ]
  },
  {
   "cell_type": "code",
   "execution_count": 12,
   "metadata": {},
   "outputs": [
    {
     "name": "stdout",
     "output_type": "stream",
     "text": [
      "All my libraries are good to go!\n"
     ]
    }
   ],
   "source": [
    "### BEGIN SOLUTION\n",
    "print(\"All my libraries are good to go!\")\n",
    "\n",
    "\n",
    "### END SOLUTION"
   ]
  },
  {
   "cell_type": "markdown",
   "metadata": {},
   "source": [
    "## Question 3\n",
    "20 points\n",
    "\n",
    "Create a new Jupyter Notebook and navigate through the icons on the toolbar. Once you complete the tasks, write, \"I love programming!\""
   ]
  },
  {
   "cell_type": "code",
   "execution_count": 14,
   "metadata": {},
   "outputs": [
    {
     "name": "stdout",
     "output_type": "stream",
     "text": [
      "i love programming!\n"
     ]
    }
   ],
   "source": [
    "### BEGIN SOLUTION\n",
    "print(\"i love programming!\")\n",
    "\n",
    "\n",
    "### END SOLUTION"
   ]
  },
  {
   "cell_type": "markdown",
   "metadata": {},
   "source": [
    "## Question 4\n",
    "20 points\n",
    "\n",
    "Print the different types of **Errors** we learned in computer programming on the screen. Make sure you print the output as a string."
   ]
  },
  {
   "cell_type": "code",
   "execution_count": 9,
   "metadata": {},
   "outputs": [
    {
     "name": "stdout",
     "output_type": "stream",
     "text": [
      " syntax error, runtime error, semantic error.\n"
     ]
    }
   ],
   "source": [
    "### BEGIN SOLUTION\n",
    "print (\" syntax error, runtime error, semantic error.\")\n",
    "\n",
    "\n",
    "\n",
    "### END SOLUTION"
   ]
  },
  {
   "cell_type": "markdown",
   "metadata": {},
   "source": [
    "## Question 5\n",
    "20 points\n",
    "\n",
    "Before you submit your completed assignment in Brighspace in the assignment designated dropbox. Write \"I am a Pythonista,the Superstar!\""
   ]
  },
  {
   "cell_type": "code",
   "execution_count": 16,
   "metadata": {},
   "outputs": [
    {
     "name": "stdout",
     "output_type": "stream",
     "text": [
      "i am a pythonista, the superstar!\n"
     ]
    }
   ],
   "source": [
    "### BEGIN SOLUTION\n",
    "print(\"i am a pythonista, the superstar!\")\n",
    "\n",
    "\n",
    "### END SOLUTION"
   ]
  },
  {
   "cell_type": "code",
   "execution_count": null,
   "metadata": {},
   "outputs": [],
   "source": [
    "I am a pythonista, the superstar!"
   ]
  }
 ],
 "metadata": {
  "kernelspec": {
   "display_name": "Python 3 (ipykernel)",
   "language": "python",
   "name": "python3"
  },
  "language_info": {
   "codemirror_mode": {
    "name": "ipython",
    "version": 3
   },
   "file_extension": ".py",
   "mimetype": "text/x-python",
   "name": "python",
   "nbconvert_exporter": "python",
   "pygments_lexer": "ipython3",
   "version": "3.12.4"
  },
  "toc": {
   "base_numbering": 1,
   "nav_menu": {
    "height": "23px",
    "width": "160px"
   },
   "number_sections": false,
   "sideBar": true,
   "skip_h1_title": true,
   "title_cell": "Table of Contents",
   "title_sidebar": "Contents",
   "toc_cell": false,
   "toc_position": {
    "height": "calc(100% - 180px)",
    "left": "10px",
    "top": "150px",
    "width": "307.2px"
   },
   "toc_section_display": true,
   "toc_window_display": false
  }
 },
 "nbformat": 4,
 "nbformat_minor": 4
}
