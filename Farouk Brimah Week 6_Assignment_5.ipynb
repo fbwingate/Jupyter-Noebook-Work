{
 "cells": [
  {
   "cell_type": "code",
   "execution_count": null,
   "metadata": {},
   "outputs": [],
   "source": [
    "!jt -"
   ]
  },
  {
   "cell_type": "markdown",
   "metadata": {},
   "source": [
    "<h1 align=\"center\">HINF 5001- Computer Programming for Health Informatics and Data Science</h1>\n",
    "<b><center>Module 6 Week 6 Assignment</center></b>"
   ]
  },
  {
   "cell_type": "markdown",
   "metadata": {},
   "source": [
    "# Assignment Overview\n",
    "\n",
    "In this assignment, you will work with the Python variables and simple Data Types you learned in the week 3 lecture, for instance, defining variables, integers, floats, mathematical expressions, and boolean.\n",
    "\n",
    "This assignment is designed to help you be comfortable with coding in Python language as well as help you review the topics we covered.\n",
    "\n",
    "Before submitting your file, ensure you run your code from each cell. You should apply the same concepts you will do when delivering a final project to your client or superior.\n",
    "\n",
    "# Tips on File Submission in Blackboard\n",
    "* Download a copy of the Jupyter Notebook with assignment questions and save it in your working directory\n",
    "* Complete the assignment questions\n",
    "* Submit your completed Jupyter Notebook assignment file in the designated dropbox\n",
    "\n",
    "# Learning Objectives\n",
    "- Use Jupyter Notebook to commence programming in Python\n",
    "- Specify Python basic data types, inclduing integers, strings, floats, boolean\n",
    "- Apply the data types to programming codes\n",
    "- Create variables that will read and refer to objects in Python"
   ]
  },
  {
   "cell_type": "markdown",
   "metadata": {},
   "source": [
    "# Instructions\n",
    "The line **### BEGIN SOLUTION** tells you where to write your solution and **### END SOLUTION tells you where your solution will end**. Do not touch anything outside the comment parameters and do not delete them!\n",
    "\n",
    "**Read the questions careful, the answers to some questions may be depend on the previous questions.**"
   ]
  },
  {
   "cell_type": "markdown",
   "metadata": {},
   "source": [
    "## Question 1\n",
    "5 points\n",
    "\n",
    "\n",
    "\n",
    "How would you assign the value 'hello' as the third value or item in a list stored in a variable named var_1."
   ]
  },
  {
   "cell_type": "code",
   "execution_count": 2,
   "metadata": {},
   "outputs": [
    {
     "name": "stdout",
     "output_type": "stream",
     "text": [
      "[2, 4, 6, 'hello', 10, 12]\n"
     ]
    }
   ],
   "source": [
    "### BEGIN SOLUTION\n",
    "\n",
    "var_1 = [2, 4, 6, 8, 10, 12]\n",
    "\n",
    "var_1[3] = 'hello'\n",
    "\n",
    "print(var_1)\n",
    "\n",
    "### END SOLUTION"
   ]
  },
  {
   "cell_type": "markdown",
   "metadata": {},
   "source": [
    "## Question 2\n",
    "5 points\n",
    "\n",
    "Use the append function to add the alphabet f in the variable name var_2."
   ]
  },
  {
   "cell_type": "code",
   "execution_count": 5,
   "metadata": {},
   "outputs": [
    {
     "name": "stdout",
     "output_type": "stream",
     "text": [
      "['a', 'b', 'c', 'd', 'f']\n"
     ]
    }
   ],
   "source": [
    "### BEGIN SOLUTION\n",
    "\n",
    "var_2 = ['a', 'b', 'c', 'd']\n",
    "\n",
    "var_2.append('f')\n",
    "\n",
    "print(var_2)\n",
    "### END SOLUTION"
   ]
  },
  {
   "cell_type": "markdown",
   "metadata": {},
   "source": [
    "## Question 3\n",
    "5 points\n",
    "\n",
    "How would you replicate the variable named var_2 four time, question 2."
   ]
  },
  {
   "cell_type": "code",
   "execution_count": 7,
   "metadata": {},
   "outputs": [
    {
     "name": "stdout",
     "output_type": "stream",
     "text": [
      "['a', 'b', 'c', 'd', 'a', 'b', 'c', 'd', 'a', 'b', 'c', 'd', 'a', 'b', 'c', 'd']\n"
     ]
    }
   ],
   "source": [
    "### BEGIN SOLUTION\n",
    "\n",
    "var_2 = ['a', 'b', 'c', 'd']\n",
    "\n",
    "replicated_list = var_2 * 4\n",
    "\n",
    "print(replicated_list)\n",
    "\n",
    "### END SOLUTION"
   ]
  },
  {
   "cell_type": "markdown",
   "metadata": {},
   "source": [
    "## Question 4\n",
    "5 points\n",
    "\n",
    "How would you remove the alphabet d from variable named var_3."
   ]
  },
  {
   "cell_type": "code",
   "execution_count": 12,
   "metadata": {},
   "outputs": [
    {
     "data": {
      "text/plain": [
       "['a', 'b', 'c']"
      ]
     },
     "execution_count": 12,
     "metadata": {},
     "output_type": "execute_result"
    }
   ],
   "source": [
    "### BEGIN SOLUTION\n",
    "\n",
    "var_3 = ['a', 'b', 'c', 'd']\n",
    "\n",
    "var_3[0:3]\n",
    "\n",
    "### END SOLUTION"
   ]
  },
  {
   "cell_type": "markdown",
   "metadata": {},
   "source": [
    "## Question 5\n",
    "10 points\n",
    "\n",
    "Concatenate the a list named L3 to var_3 from question 4, and name the new list L4."
   ]
  },
  {
   "cell_type": "code",
   "execution_count": 14,
   "metadata": {},
   "outputs": [
    {
     "name": "stdout",
     "output_type": "stream",
     "text": [
      "['a', 'b', 'c', 'd', 'apples', 'bananas', 'tofu', 'cats']\n"
     ]
    }
   ],
   "source": [
    "### BEGIN SOLUTION\n",
    "\n",
    "L3 = ['apples', 'bananas', 'tofu', 'cats']\n",
    "L4 = var_3 + L3 \n",
    "print(L4)\n",
    "### END SOLUTION"
   ]
  },
  {
   "cell_type": "markdown",
   "metadata": {},
   "source": [
    "## Question 6\n",
    "15 points\n",
    "\n",
    "Identify the dictionary keys in the dictionary named myCat and write them as string in a new tuple called my_tuple."
   ]
  },
  {
   "cell_type": "code",
   "execution_count": 17,
   "metadata": {},
   "outputs": [
    {
     "name": "stdout",
     "output_type": "stream",
     "text": [
      "('size', 'color', 'disposition')\n"
     ]
    }
   ],
   "source": [
    "### BEGIN SOLUTION\n",
    "\n",
    "myCat = {'size': 'slim', 'color': 'brown', 'disposition': 'loud'}\n",
    "\n",
    "#identifying keys with .keys function\n",
    "my_tuple = tuple(myCat.keys())\n",
    "\n",
    "print(my_tuple)\n",
    "### END SOLUTION"
   ]
  },
  {
   "cell_type": "markdown",
   "metadata": {},
   "source": [
    "## Question 7\n",
    "5 points\n",
    "\n",
    "Identify the dictionary values in the dictionary named myCat and write them as string in a set called my_set."
   ]
  },
  {
   "cell_type": "code",
   "execution_count": 20,
   "metadata": {},
   "outputs": [
    {
     "name": "stdout",
     "output_type": "stream",
     "text": [
      "('slim', 'brown', 'loud')\n"
     ]
    }
   ],
   "source": [
    "### BEGIN SOLUTION\n",
    "#identifying values with .values function\n",
    "my_set = tuple(myCat.values())\n",
    "\n",
    "print(my_set)\n",
    "\n",
    "### END SOLUTION"
   ]
  },
  {
   "cell_type": "markdown",
   "metadata": {},
   "source": [
    "## Question 8\n",
    "15 points\n",
    "\n",
    "The dictionary named patientName contains certain patient's information. Use 'in' and 'not' operators to\n",
    "see whether a certain key or value exists the dictionary. Insert cells to run the other codes. Ensure that the outputs are in Boolean."
   ]
  },
  {
   "cell_type": "code",
   "execution_count": 1,
   "metadata": {},
   "outputs": [
    {
     "data": {
      "text/plain": [
       "True"
      ]
     },
     "execution_count": 1,
     "metadata": {},
     "output_type": "execute_result"
    }
   ],
   "source": [
    "### BEGIN SOLUTION\n",
    "\n",
    "patientName = {'FirstName': \"John\", 'LastNane': 'Smith', 'age': 45, 'RoomNumber': 2}\n",
    "\n",
    "value_check_john = \"John\" in patientName.values()\n",
    "\n",
    "value_check_john\n",
    "#\"FirstName in patienName.keys()\"\n",
    "\n",
    "\n",
    "### END SOLUTION"
   ]
  },
  {
   "cell_type": "markdown",
   "metadata": {},
   "source": [
    "## Question 9\n",
    "10 points\n",
    "\n",
    "The given tuple is a nested tuple, write a Python program, using slicing to print the value 30"
   ]
  },
  {
   "cell_type": "code",
   "execution_count": 22,
   "metadata": {},
   "outputs": [
    {
     "data": {
      "text/plain": [
       "30"
      ]
     },
     "execution_count": 22,
     "metadata": {},
     "output_type": "execute_result"
    }
   ],
   "source": [
    "### BEGIN SOLUTION\n",
    "\n",
    "my_tuple = (\"Orange\", [10, 20, 30, 40], (5, 15, 25, 30))\n",
    "\n",
    "my_tuple[1][2]\n",
    "### END SOLUTION"
   ]
  },
  {
   "cell_type": "markdown",
   "metadata": {},
   "source": [
    "## Question 10\n",
    "10 points\n",
    "\n",
    "Given the nested tuple below. Write a program to modify the first item (33) of a list inside a following tuple to 333"
   ]
  },
  {
   "cell_type": "code",
   "execution_count": 24,
   "metadata": {},
   "outputs": [
    {
     "name": "stdout",
     "output_type": "stream",
     "text": [
      "(11, [22, 333], 44, 55)\n"
     ]
    }
   ],
   "source": [
    "### BEGIN SOLUTION\n",
    "\n",
    "tuple_1 = (11, [22, 33], 44, 55)\n",
    "\n",
    "tuple_1[1][1] = 333\n",
    "\n",
    "print(tuple_1)\n",
    "\n",
    "### END SOLUTION"
   ]
  },
  {
   "cell_type": "markdown",
   "metadata": {},
   "source": [
    "## Question 11\n",
    "15 points\n",
    "\n",
    "Tuples are immutable, which means you cannot directly modify them once they are created. Given these tuples dir_1 = ('North', 'South', 'East', 'West') and num = (4, 8, 12), merge the two tuples and named the new tuple dir_num.\n",
    "\n",
    "\n",
    "HINT: you can use  the concatenate operator ('+')\n",
    "\n",
    "\n",
    "Should print: ('North', 'South', 'East', 'West', 4, 8, 12)"
   ]
  },
  {
   "cell_type": "code",
   "execution_count": 11,
   "metadata": {},
   "outputs": [
    {
     "name": "stdout",
     "output_type": "stream",
     "text": [
      "('North', 'South', 'East', 'West', 4, 8, 12)\n"
     ]
    }
   ],
   "source": [
    "### BEGIN SOLUTION\n",
    "dir_1 = ('North', 'South', 'East', 'West') \n",
    "num = (4, 8, 12)\n",
    "\n",
    "dir_num = dir_1 + num\n",
    "print(dir_num)\n",
    "\n",
    "### END SOLUTION"
   ]
  },
  {
   "cell_type": "code",
   "execution_count": null,
   "metadata": {},
   "outputs": [],
   "source": []
  }
 ],
 "metadata": {
  "kernelspec": {
   "display_name": "Python 3 (ipykernel)",
   "language": "python",
   "name": "python3"
  },
  "language_info": {
   "codemirror_mode": {
    "name": "ipython",
    "version": 3
   },
   "file_extension": ".py",
   "mimetype": "text/x-python",
   "name": "python",
   "nbconvert_exporter": "python",
   "pygments_lexer": "ipython3",
   "version": "3.8.19"
  },
  "toc": {
   "base_numbering": 1,
   "nav_menu": {
    "height": "23px",
    "width": "160px"
   },
   "number_sections": false,
   "sideBar": true,
   "skip_h1_title": true,
   "title_cell": "Table of Contents",
   "title_sidebar": "Contents",
   "toc_cell": false,
   "toc_position": {},
   "toc_section_display": true,
   "toc_window_display": false
  }
 },
 "nbformat": 4,
 "nbformat_minor": 4
}
